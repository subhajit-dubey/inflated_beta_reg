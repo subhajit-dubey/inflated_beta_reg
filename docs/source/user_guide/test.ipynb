{
 "cells": [
  {
   "cell_type": "markdown",
   "metadata": {},
   "source": [
    "### Inflated Beta Regression Run - User Guide"
   ]
  },
  {
   "cell_type": "markdown",
   "metadata": {},
   "source": [
    ".. note:: This Notebook (`test.ipynb`) is located in the path `inflated_beta_reg/docs/source/user_guide`"
   ]
  },
  {
   "cell_type": "markdown",
   "metadata": {},
   "source": [
    "##### Filter Warning Messages"
   ]
  },
  {
   "cell_type": "code",
   "execution_count": 1,
   "metadata": {},
   "outputs": [],
   "source": [
    "import warnings\n",
    "warnings.filterwarnings('ignore')"
   ]
  },
  {
   "cell_type": "markdown",
   "metadata": {},
   "source": [
    "##### Importing the package"
   ]
  },
  {
   "cell_type": "code",
   "execution_count": 2,
   "metadata": {},
   "outputs": [],
   "source": [
    "import sys\n",
    "import pathlib\n",
    "import os\n",
    "main_path = pathlib.Path(os.getcwd()).parents[2]\n",
    "sys.path.insert(0, main_path.resolve().as_posix())\n",
    "from src import InflatedBeta"
   ]
  },
  {
   "cell_type": "markdown",
   "metadata": {},
   "source": [
    "##### Reading the raw data"
   ]
  },
  {
   "cell_type": "code",
   "execution_count": 3,
   "metadata": {},
   "outputs": [
    {
     "data": {
      "text/html": [
       "<div>\n",
       "<style scoped>\n",
       "    .dataframe tbody tr th:only-of-type {\n",
       "        vertical-align: middle;\n",
       "    }\n",
       "\n",
       "    .dataframe tbody tr th {\n",
       "        vertical-align: top;\n",
       "    }\n",
       "\n",
       "    .dataframe thead th {\n",
       "        text-align: right;\n",
       "    }\n",
       "</style>\n",
       "<table border=\"1\" class=\"dataframe\">\n",
       "  <thead>\n",
       "    <tr style=\"text-align: right;\">\n",
       "      <th></th>\n",
       "      <th>Col1</th>\n",
       "      <th>Col2</th>\n",
       "      <th>Col3</th>\n",
       "      <th>Col4</th>\n",
       "      <th>ColY</th>\n",
       "    </tr>\n",
       "  </thead>\n",
       "  <tbody>\n",
       "    <tr>\n",
       "      <th>0</th>\n",
       "      <td>-1.000252</td>\n",
       "      <td>0</td>\n",
       "      <td>97</td>\n",
       "      <td>1</td>\n",
       "      <td>0.0</td>\n",
       "    </tr>\n",
       "    <tr>\n",
       "      <th>1</th>\n",
       "      <td>-1.000252</td>\n",
       "      <td>0</td>\n",
       "      <td>97</td>\n",
       "      <td>0</td>\n",
       "      <td>0.0</td>\n",
       "    </tr>\n",
       "    <tr>\n",
       "      <th>2</th>\n",
       "      <td>-1.000252</td>\n",
       "      <td>0</td>\n",
       "      <td>97</td>\n",
       "      <td>1</td>\n",
       "      <td>0.0</td>\n",
       "    </tr>\n",
       "    <tr>\n",
       "      <th>3</th>\n",
       "      <td>-1.000252</td>\n",
       "      <td>0</td>\n",
       "      <td>97</td>\n",
       "      <td>1</td>\n",
       "      <td>0.0</td>\n",
       "    </tr>\n",
       "    <tr>\n",
       "      <th>4</th>\n",
       "      <td>-0.660145</td>\n",
       "      <td>1</td>\n",
       "      <td>18</td>\n",
       "      <td>1</td>\n",
       "      <td>0.0</td>\n",
       "    </tr>\n",
       "  </tbody>\n",
       "</table>\n",
       "</div>"
      ],
      "text/plain": [
       "       Col1  Col2  Col3  Col4  ColY\n",
       "0 -1.000252     0    97     1   0.0\n",
       "1 -1.000252     0    97     0   0.0\n",
       "2 -1.000252     0    97     1   0.0\n",
       "3 -1.000252     0    97     1   0.0\n",
       "4 -0.660145     1    18     1   0.0"
      ]
     },
     "execution_count": 3,
     "metadata": {},
     "output_type": "execute_result"
    }
   ],
   "source": [
    "import pandas as pd\n",
    "df__ = pd.read_excel(os.path.join(main_path, \"data\", \"sample.xlsx\"), engine='openpyxl')\n",
    "df__.head()"
   ]
  },
  {
   "cell_type": "code",
   "execution_count": 4,
   "metadata": {},
   "outputs": [
    {
     "data": {
      "text/plain": [
       "(274, 5)"
      ]
     },
     "execution_count": 4,
     "metadata": {},
     "output_type": "execute_result"
    }
   ],
   "source": [
    "df__.shape"
   ]
  },
  {
   "cell_type": "markdown",
   "metadata": {},
   "source": [
    "##### Preparing the data for the model run"
   ]
  },
  {
   "cell_type": "code",
   "execution_count": 5,
   "metadata": {},
   "outputs": [],
   "source": [
    "ibr = InflatedBeta(verbose=False)\n",
    "ibr.data_prep(df__, ['Col1','Col2','Col3','Col4'], 'ColY', 0.0, 1.0)"
   ]
  },
  {
   "cell_type": "markdown",
   "metadata": {},
   "source": [
    ".. note:: The verbose can be turned on by assigning the value `True` for verbose and it will display Log-likelihood, gradient and parameter values at each iteration"
   ]
  },
  {
   "cell_type": "markdown",
   "metadata": {},
   "source": [
    "##### Final Output in same format as SAS Output"
   ]
  },
  {
   "cell_type": "markdown",
   "metadata": {},
   "source": [
    ".. note:: The initial parameter values are all set to `0.0001`"
   ]
  },
  {
   "cell_type": "code",
   "execution_count": 6,
   "metadata": {},
   "outputs": [
    {
     "data": {
      "text/html": [
       "<div>\n",
       "<style scoped>\n",
       "    .dataframe tbody tr th:only-of-type {\n",
       "        vertical-align: middle;\n",
       "    }\n",
       "\n",
       "    .dataframe tbody tr th {\n",
       "        vertical-align: top;\n",
       "    }\n",
       "\n",
       "    .dataframe thead th {\n",
       "        text-align: right;\n",
       "    }\n",
       "</style>\n",
       "<table border=\"1\" class=\"dataframe\">\n",
       "  <thead>\n",
       "    <tr style=\"text-align: right;\">\n",
       "      <th></th>\n",
       "      <th>Parameter</th>\n",
       "      <th>Estimate</th>\n",
       "      <th>Standard Error</th>\n",
       "      <th>DF</th>\n",
       "      <th>t Values</th>\n",
       "      <th>Pr &gt; |t|</th>\n",
       "      <th>95% Confidence Limits</th>\n",
       "      <th>Gradient</th>\n",
       "    </tr>\n",
       "  </thead>\n",
       "  <tbody>\n",
       "    <tr>\n",
       "      <th>0</th>\n",
       "      <td>const</td>\n",
       "      <td>0.979848</td>\n",
       "      <td>0.433598</td>\n",
       "      <td>274.0</td>\n",
       "      <td>2.259807</td>\n",
       "      <td>2.461866e-02</td>\n",
       "      <td>(0.12624103836277145, 1.833455270005466)</td>\n",
       "      <td>-2.460134e-07</td>\n",
       "    </tr>\n",
       "    <tr>\n",
       "      <th>1</th>\n",
       "      <td>Col1</td>\n",
       "      <td>0.243599</td>\n",
       "      <td>0.202390</td>\n",
       "      <td>274.0</td>\n",
       "      <td>1.203614</td>\n",
       "      <td>2.297778e-01</td>\n",
       "      <td>(-0.15483759510170866, 0.6420360183502578)</td>\n",
       "      <td>-1.137390e-07</td>\n",
       "    </tr>\n",
       "    <tr>\n",
       "      <th>2</th>\n",
       "      <td>Col2</td>\n",
       "      <td>-0.207923</td>\n",
       "      <td>0.291136</td>\n",
       "      <td>274.0</td>\n",
       "      <td>-0.714178</td>\n",
       "      <td>4.757251e-01</td>\n",
       "      <td>(-0.7810697370998063, 0.3652243890452674)</td>\n",
       "      <td>-1.255724e-07</td>\n",
       "    </tr>\n",
       "    <tr>\n",
       "      <th>3</th>\n",
       "      <td>Col3</td>\n",
       "      <td>-0.003521</td>\n",
       "      <td>0.006275</td>\n",
       "      <td>274.0</td>\n",
       "      <td>-0.561117</td>\n",
       "      <td>5.751761e-01</td>\n",
       "      <td>(-0.01587325143966352, 0.008831715518177765)</td>\n",
       "      <td>-8.834626e-06</td>\n",
       "    </tr>\n",
       "    <tr>\n",
       "      <th>4</th>\n",
       "      <td>Col4</td>\n",
       "      <td>-0.845344</td>\n",
       "      <td>0.350082</td>\n",
       "      <td>274.0</td>\n",
       "      <td>-2.414707</td>\n",
       "      <td>1.640316e-02</td>\n",
       "      <td>(-1.5345357080948485, -0.1561528137161161)</td>\n",
       "      <td>-1.857017e-07</td>\n",
       "    </tr>\n",
       "    <tr>\n",
       "      <th>5</th>\n",
       "      <td>pie</td>\n",
       "      <td>0.686131</td>\n",
       "      <td>0.028130</td>\n",
       "      <td>274.0</td>\n",
       "      <td>24.391124</td>\n",
       "      <td>0.000000e+00</td>\n",
       "      <td>(0.6307522597947148, 0.7415105142806013)</td>\n",
       "      <td>2.243973e-07</td>\n",
       "    </tr>\n",
       "    <tr>\n",
       "      <th>6</th>\n",
       "      <td>kesai</td>\n",
       "      <td>0.319149</td>\n",
       "      <td>0.033913</td>\n",
       "      <td>274.0</td>\n",
       "      <td>9.410690</td>\n",
       "      <td>0.000000e+00</td>\n",
       "      <td>(0.2523849015274205, 0.3859129715992326)</td>\n",
       "      <td>3.402000e-07</td>\n",
       "    </tr>\n",
       "    <tr>\n",
       "      <th>7</th>\n",
       "      <td>phi</td>\n",
       "      <td>0.667064</td>\n",
       "      <td>0.080295</td>\n",
       "      <td>274.0</td>\n",
       "      <td>8.307647</td>\n",
       "      <td>4.440892e-15</td>\n",
       "      <td>(0.5089897962116232, 0.8251373271288636)</td>\n",
       "      <td>2.492862e-08</td>\n",
       "    </tr>\n",
       "  </tbody>\n",
       "</table>\n",
       "</div>"
      ],
      "text/plain": [
       "  Parameter  Estimate  Standard Error     DF   t Values      Pr > |t|  \\\n",
       "0     const  0.979848        0.433598  274.0   2.259807  2.461866e-02   \n",
       "1      Col1  0.243599        0.202390  274.0   1.203614  2.297778e-01   \n",
       "2      Col2 -0.207923        0.291136  274.0  -0.714178  4.757251e-01   \n",
       "3      Col3 -0.003521        0.006275  274.0  -0.561117  5.751761e-01   \n",
       "4      Col4 -0.845344        0.350082  274.0  -2.414707  1.640316e-02   \n",
       "5       pie  0.686131        0.028130  274.0  24.391124  0.000000e+00   \n",
       "6     kesai  0.319149        0.033913  274.0   9.410690  0.000000e+00   \n",
       "7       phi  0.667064        0.080295  274.0   8.307647  4.440892e-15   \n",
       "\n",
       "                          95% Confidence Limits      Gradient  \n",
       "0      (0.12624103836277145, 1.833455270005466) -2.460134e-07  \n",
       "1    (-0.15483759510170866, 0.6420360183502578) -1.137390e-07  \n",
       "2     (-0.7810697370998063, 0.3652243890452674) -1.255724e-07  \n",
       "3  (-0.01587325143966352, 0.008831715518177765) -8.834626e-06  \n",
       "4    (-1.5345357080948485, -0.1561528137161161) -1.857017e-07  \n",
       "5      (0.6307522597947148, 0.7415105142806013)  2.243973e-07  \n",
       "6      (0.2523849015274205, 0.3859129715992326)  3.402000e-07  \n",
       "7      (0.5089897962116232, 0.8251373271288636)  2.492862e-08  "
      ]
     },
     "execution_count": 6,
     "metadata": {},
     "output_type": "execute_result"
    }
   ],
   "source": [
    "ibr.estimate_params([0.0001, 0.0001, 0.0001, 0.0001, 0.0001])"
   ]
  },
  {
   "cell_type": "code",
   "execution_count": null,
   "metadata": {},
   "outputs": [],
   "source": []
  }
 ],
 "metadata": {
  "kernelspec": {
   "display_name": "inf_beta_367",
   "language": "python",
   "name": "python3"
  },
  "language_info": {
   "codemirror_mode": {
    "name": "ipython",
    "version": 3
   },
   "file_extension": ".py",
   "mimetype": "text/x-python",
   "name": "python",
   "nbconvert_exporter": "python",
   "pygments_lexer": "ipython3",
   "version": "3.9.7"
  },
  "orig_nbformat": 4
 },
 "nbformat": 4,
 "nbformat_minor": 2
}
